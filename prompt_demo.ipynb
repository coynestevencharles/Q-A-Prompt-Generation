{
 "cells": [
  {
   "cell_type": "code",
   "execution_count": 1,
   "metadata": {},
   "outputs": [
    {
     "name": "stdout",
     "output_type": "stream",
     "text": [
      "Answer these questions:\n",
      "Question: Who was the president of the United States in 1995?? Answer: [Bill Clinton]\n",
      "Question: Who was the first president of Mexico?? Answer: [Guadalupe Victoria]\n",
      "Question: Who was the first President of the United States?? Answer: [\n",
      "\n",
      "質問を答えてください：\n",
      "質問： 火星の最大の楯状火山は何ですか??　答え：「「オリンポス」」\n",
      "質問： 世界で最も高い山は何ですか?で一番高い山は何ですか??　答え：「「エベレスト」」\n",
      "質問： 日本で一番高い山は何ですか??　答え：「「\n"
     ]
    }
   ],
   "source": [
    "from prompt_utils import add_prompt\n",
    "\n",
    "N = 2\n",
    "\n",
    "en_q = 'Who was the first President of the United States?'\n",
    "ja_q = '日本で一番高い山は何ですか?'\n",
    "\n",
    "print(add_prompt(en_q, 'en', N))\n",
    "print()\n",
    "print(add_prompt(ja_q, 'ja', N))"
   ]
  }
 ],
 "metadata": {
  "kernelspec": {
   "display_name": "base",
   "language": "python",
   "name": "python3"
  },
  "language_info": {
   "codemirror_mode": {
    "name": "ipython",
    "version": 3
   },
   "file_extension": ".py",
   "mimetype": "text/x-python",
   "name": "python",
   "nbconvert_exporter": "python",
   "pygments_lexer": "ipython3",
   "version": "3.8.15"
  },
  "orig_nbformat": 4,
  "vscode": {
   "interpreter": {
    "hash": "61a24e73496aeaa73309e785a2ff9024473e686d2c49c6d28da8f697a6e5d1bc"
   }
  }
 },
 "nbformat": 4,
 "nbformat_minor": 2
}
